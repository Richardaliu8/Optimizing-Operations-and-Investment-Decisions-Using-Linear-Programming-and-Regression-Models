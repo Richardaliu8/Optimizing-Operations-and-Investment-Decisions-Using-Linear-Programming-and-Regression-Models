{
 "cells": [
  {
   "cell_type": "markdown",
   "metadata": {},
   "source": [
    "###Analytic Decision Making"
   ]
  },
  {
   "cell_type": "markdown",
   "metadata": {},
   "source": [
    "Exercise 1: Operations Excellence"
   ]
  },
  {
   "cell_type": "markdown",
   "metadata": {},
   "source": [
    "1. Write the optimization models for each plant, i.e., make sure to detail the decision\n",
    "variables, the objective function and the constraints.\n",
    "2. Provide the optimal solutions and profit levels for each factory. Give the values of the\n",
    "decision variables and the optimal objective function value.\n",
    "3. Now, write the optimization model for the joint optimization of both sites, and provide\n",
    "the optimal solution and profit levels.\n"
   ]
  },
  {
   "cell_type": "code",
   "execution_count": 19,
   "metadata": {},
   "outputs": [
    {
     "name": "stdout",
     "output_type": "stream",
     "text": [
      "     pcost       dcost       gap    pres   dres   k/t\n",
      " 0: -2.3150e+02 -5.3116e+02  1e+02  1e-01  1e+00  1e+00\n",
      " 1: -2.2424e+02 -2.4880e+02  7e+00  1e-02  9e-02  4e-01\n",
      " 2: -2.2499e+02 -2.2530e+02  8e-02  1e-04  1e-03  6e-03\n",
      " 3: -2.2500e+02 -2.2500e+02  8e-04  1e-06  1e-05  6e-05\n",
      " 4: -2.2500e+02 -2.2500e+02  8e-06  1e-08  1e-07  6e-07\n",
      " 5: -2.2500e+02 -2.2500e+02  8e-08  1e-10  1e-09  6e-09\n",
      "Optimal solution found.\n",
      "     pcost       dcost       gap    pres   dres   k/t\n",
      " 0: -2.3150e+02 -5.3116e+02  1e+02  1e-01  1e+00  1e+00\n",
      " 1: -2.2424e+02 -2.4880e+02  7e+00  1e-02  9e-02  4e-01\n",
      " 2: -2.2499e+02 -2.2530e+02  8e-02  1e-04  1e-03  6e-03\n",
      " 3: -2.2500e+02 -2.2500e+02  8e-04  1e-06  1e-05  6e-05\n",
      " 4: -2.2500e+02 -2.2500e+02  8e-06  1e-08  1e-07  6e-07\n",
      " 5: -2.2500e+02 -2.2500e+02  8e-08  1e-10  1e-09  6e-09\n",
      "Optimal solution found.\n",
      "[-2.25e+02]\n",
      "\n",
      "BIC Optimal Production Plan:\n",
      "BIC Standard units: 11.250000001823\n",
      "BIC Deluxe units: 7.4999999978449425\n",
      "BIC Maximized Profit: 224.99999998046462\n"
     ]
    }
   ],
   "source": [
    "#Question 1 contains help from previous lecture example and minor help from chatgpt\n",
    "import math\n",
    "import numpy\n",
    "import pandas as pd\n",
    "from cvxopt import matrix\n",
    "from cvxopt.modeling import variable\n",
    "from cvxopt.modeling import op\n",
    "\n",
    "#decision variables\n",
    "standard_BIC = variable(1, 'Standard_BIC')\n",
    "deluxe_BIC = variable(1, 'Deluxe_BIC')\n",
    "\n",
    "# Definition of the Constraints\n",
    "\n",
    "c1 = (4 * standard_BIC + 2 * deluxe_BIC <= 80)  \n",
    "c2 = (2 * standard_BIC + 5 * deluxe_BIC <= 60)  \n",
    "c3 = (4 * standard_BIC + 4 * deluxe_BIC <= 75)  \n",
    "c4 = (standard_BIC >= 0)\n",
    "c5 = (deluxe_BIC >= 0)\n",
    "\n",
    "const_set = [c1, c2, c3, c4, c5]\n",
    "\n",
    "# Definition of the Objective Function\n",
    "obj_func = 10 * standard_BIC + 15 * deluxe_BIC\n",
    "\n",
    "# Solving the problem\n",
    "problem = op(-obj_func, const_set) \n",
    "problem.solve()\n",
    "\n",
    "OA=op(-obj_func,const_set) \n",
    "OA.solve()\n",
    "OA.status\n",
    "print(OA.objective.value())\n",
    "\n",
    "print(\"BIC Optimal Production Plan:\")\n",
    "print(\"BIC Standard units:\", standard_BIC.value[0])\n",
    "print(\"BIC Deluxe units:\", deluxe_BIC.value[0])\n",
    "print(\"BIC Maximized Profit:\", -problem_BIC.objective.value()[0])"
   ]
  },
  {
   "cell_type": "code",
   "execution_count": 18,
   "metadata": {},
   "outputs": [
    {
     "name": "stdout",
     "output_type": "stream",
     "text": [
      "     pcost       dcost       gap    pres   dres   k/t\n",
      " 0: -1.5641e+02 -5.0061e+02  1e+02  2e-01  2e+00  1e+00\n",
      " 1: -1.7716e+02 -2.3795e+02  3e+01  3e-02  3e-01  2e+00\n",
      " 2: -1.6813e+02 -1.8563e+02  8e+00  1e-02  1e-01  1e+00\n",
      " 3: -1.6875e+02 -1.6893e+02  8e-02  1e-04  1e-03  1e-02\n",
      " 4: -1.6875e+02 -1.6875e+02  8e-04  1e-06  1e-05  1e-04\n",
      " 5: -1.6875e+02 -1.6875e+02  8e-06  1e-08  1e-07  1e-06\n",
      " 6: -1.6875e+02 -1.6875e+02  8e-08  1e-10  1e-09  1e-08\n",
      "Optimal solution found.\n",
      "     pcost       dcost       gap    pres   dres   k/t\n",
      " 0: -1.5641e+02 -5.0061e+02  1e+02  2e-01  2e+00  1e+00\n",
      " 1: -1.7716e+02 -2.3795e+02  3e+01  3e-02  3e-01  2e+00\n",
      " 2: -1.6813e+02 -1.8563e+02  8e+00  1e-02  1e-01  1e+00\n",
      " 3: -1.6875e+02 -1.6893e+02  8e-02  1e-04  1e-03  1e-02\n",
      " 4: -1.6875e+02 -1.6875e+02  8e-04  1e-06  1e-05  1e-04\n",
      " 5: -1.6875e+02 -1.6875e+02  8e-06  1e-08  1e-07  1e-06\n",
      " 6: -1.6875e+02 -1.6875e+02  8e-08  1e-10  1e-09  1e-08\n",
      "Optimal solution found.\n",
      "[-1.69e+02]\n",
      "\n",
      "CIB Standard units: -2.4756703304694626e-09\n",
      "CIB Deluxe units: 11.250000001433811\n",
      "CIB Maximized Profit: 168.74999999675046\n"
     ]
    }
   ],
   "source": [
    "#decision variables\n",
    "standard_CIB = variable(1, 'Standard_CIB')\n",
    "deluxe_CIB = variable(1, 'Deluxe_CIB')\n",
    "\n",
    "# Definition of the Constraints\n",
    "c1 = (5 * standard_CIB + 3 * deluxe_CIB <= 60)  \n",
    "c2 = (5 * standard_CIB + 6 * deluxe_CIB <= 75)  \n",
    "c3 = (4 * standard_CIB + 4 * deluxe_CIB <= 45)  \n",
    "c4 = (standard_CIB >= 0)\n",
    "c5 = (deluxe_CIB >= 0)\n",
    "\n",
    "const_set = [c1, c2, c3, c4, c5]\n",
    "\n",
    "# Definition of the Objective Function\n",
    "obj_func = 10 * standard_CIB + 15 * deluxe_CIB\n",
    "\n",
    "# Solving the problem\n",
    "problem = op(-obj_func, const_set) \n",
    "problem.solve()\n",
    "\n",
    "OA=op(-obj_func,const_set) \n",
    "OA.solve()\n",
    "OA.status\n",
    "print(OA.objective.value())\n",
    "\n",
    "print(\"CIB Optimal Production Plan:\")\n",
    "print(\"CIB Standard units:\", standard_CIB.value[0])\n",
    "print(\"CIB Deluxe units:\", deluxe_CIB.value[0])\n",
    "print(\"CIB Maximized Profit:\", -problem.objective.value()[0])"
   ]
  },
  {
   "cell_type": "code",
   "execution_count": 20,
   "metadata": {},
   "outputs": [
    {
     "name": "stdout",
     "output_type": "stream",
     "text": [
      "     pcost       dcost       gap    pres   dres   k/t\n",
      " 0: -3.8791e+02 -1.1432e+03  3e+02  2e-01  2e+00  1e+00\n",
      " 1: -4.0846e+02 -6.6129e+02  9e+01  6e-02  6e-01  3e+00\n",
      " 2: -3.9606e+02 -4.9296e+02  4e+01  2e-02  2e-01  2e+00\n",
      " 3: -3.9378e+02 -3.9542e+02  5e-01  4e-04  4e-03  6e-02\n",
      " 4: -3.9375e+02 -3.9377e+02  5e-03  4e-06  4e-05  6e-04\n",
      " 5: -3.9375e+02 -3.9375e+02  5e-05  4e-08  4e-07  6e-06\n",
      " 6: -3.9375e+02 -3.9375e+02  5e-07  4e-10  4e-09  6e-08\n",
      "Optimal solution found.\n",
      "     pcost       dcost       gap    pres   dres   k/t\n",
      " 0: -3.8791e+02 -1.1432e+03  3e+02  2e-01  2e+00  1e+00\n",
      " 1: -4.0846e+02 -6.6129e+02  9e+01  6e-02  6e-01  3e+00\n",
      " 2: -3.9606e+02 -4.9296e+02  4e+01  2e-02  2e-01  2e+00\n",
      " 3: -3.9378e+02 -3.9542e+02  5e-01  4e-04  4e-03  6e-02\n",
      " 4: -3.9375e+02 -3.9377e+02  5e-03  4e-06  4e-05  6e-04\n",
      " 5: -3.9375e+02 -3.9375e+02  5e-05  4e-08  4e-07  6e-06\n",
      " 6: -3.9375e+02 -3.9375e+02  5e-07  4e-10  4e-09  6e-08\n",
      "Optimal solution found.\n",
      "[-3.94e+02]\n",
      "\n",
      "BIC Standard units: 11.249999996966041\n",
      "BIC Deluxe units: 7.499999999466481\n",
      "CIB Standard units: -1.259514825857573e-08\n",
      "CIB Deluxe units: 11.250000012791286\n",
      "Maximized Profit: 393.7500000275754\n"
     ]
    }
   ],
   "source": [
    "\n",
    "\n",
    "#decision variables\n",
    "standard_BIC = variable(1, 'Standard_BIC')\n",
    "deluxe_BIC = variable(1, 'Deluxe_BIC')\n",
    "standard_CIB = variable(1, 'Standard_CIB')\n",
    "deluxe_CIB = variable(1, 'Deluxe_CIB')\n",
    "\n",
    "# Definition of the Constraints\n",
    "\n",
    "c1 = (4 * standard_BIC + 2 * deluxe_BIC <= 80)  \n",
    "c2 = (2 * standard_BIC + 5 * deluxe_BIC <= 60)  \n",
    "c3 = (4 * standard_BIC + 4 * deluxe_BIC <= 75) \n",
    "\n",
    "c4 = (5 * standard_CIB + 3 * deluxe_CIB <= 60)  \n",
    "c5 = (5 * standard_CIB + 6 * deluxe_CIB <= 75)  \n",
    "c6 = (4 * standard_CIB + 4 * deluxe_CIB <= 45)  \n",
    "\n",
    "c7 = (standard_BIC >= 0)\n",
    "c8 = (deluxe_BIC >= 0)\n",
    "c9 = (standard_CIB >= 0)\n",
    "c10 = (deluxe_CIB >= 0)\n",
    "\n",
    "const_set = [c1, c2, c3, c4, c5, c6, c7, c8, c9, c10]\n",
    "\n",
    "# Definition of the Objective Function\n",
    "obj_func = 10 * standard_BIC + 15 * deluxe_BIC + 10 * standard_CIB + 15 * deluxe_CIB\n",
    "\n",
    "# Solving the problem\n",
    "problem = op(-obj_func, const_set)  # Use negative profit for maximization in cvxopt\n",
    "problem.solve()\n",
    "\n",
    "#Solving the problem\n",
    "OA=op(-obj_func,const_set) \n",
    "OA.solve()\n",
    "OA.status\n",
    "print(OA.objective.value())\n",
    "\n",
    "\n",
    "print(\"BIC Standard units:\", standard_BIC.value[0])\n",
    "print(\"BIC Deluxe units:\", deluxe_BIC.value[0])\n",
    "print(\"CIB Standard units:\", standard_CIB.value[0])\n",
    "print(\"CIB Deluxe units:\", deluxe_CIB.value[0])\n",
    "print(\"Maximized Profit:\", -problem.objective.value()[0])"
   ]
  },
  {
   "cell_type": "markdown",
   "metadata": {},
   "source": [
    "4. Please comment on the results? How do they compare to the results obtained in Question 2\n",
    "\n",
    "\n",
    "From the results, The individual optimiztion results are \n",
    "BIC Site Profit: 224\n",
    "CIB Site Profit: 168\n",
    "Combined Profit: 392\n",
    "\n",
    "The joint optimization results is 393.75 in maximized profit.  \n",
    "\n",
    "The joint optimiztion approach results in a slightly higher profit. This may suggest some minor addition effiency when optimizing both CIB and BIC together. We can see that CIB site should not produce standard units, and focus on deluxe unit. The join optimization can improve resource allocation. \n",
    "\n",
    "\n",
    "5. In one paragraph (no more than 300 words), detail the recommendations you would provide to the CEO of the company to improve the firm’s operations? \n",
    "\n",
    "Based on the joint optimization results, I would recommend the CEO of the compnay to implement the joint optimization. Eventhough it is only a slight improve, but it can acheive a marginal increase in overall profit. Next, the CEO should start to apply centralized planning to optimize resource allocation across all sites. The results show that current allocaiton may lead to slight ineffiency, and the best way is to let the production sites focus on the most profitable mix of products. In this case, the CEO should review and adjust allocation of raw materials, cooking, and filtering capacities regularly. Is it also worth to inspect for the reason for the optimization suggesting CIB site to not product standard unit. Finally, the CEO should continue monitor the production effiency and resource allocation in the future to ensure good profit. \n",
    "\n",
    "\n",
    "\n",
    "\n",
    "\n",
    "\n",
    "\n",
    "\n"
   ]
  },
  {
   "cell_type": "markdown",
   "metadata": {},
   "source": [
    "Exercise 2: Hotel L’Escargot "
   ]
  },
  {
   "cell_type": "markdown",
   "metadata": {},
   "source": [
    "Profitability = 39.05 - (5.41 xState Population per Inn)\n",
    "+ (5.86 × Price of the Inn)\n",
    "− (3.09 × Square Root of the Median Income in the area)\n",
    "+ (1.75 × College Students in the Area)"
   ]
  },
  {
   "cell_type": "markdown",
   "metadata": {},
   "source": [
    "All independent variables are significant and were normalized to have mean zero and\n",
    "standard deviation 1.\n",
    "1. According to the regression equation given above, which variable positively affect Profitability? Which\n",
    "variable negatively affect Profitability? Does this intuitively make sense? Why?\n",
    "\n",
    "According to the regression equation given above, Price of the Inn and College Students in the area have the positively affect, while Square root of the median income in the area. \n"
   ]
  },
  {
   "cell_type": "markdown",
   "metadata": {},
   "source": [
    "2. Using this regression equation, L’Escargot created a spreadsheet model to predict profitability.\n",
    "L’Escargot collected data for several locations in California, which is provided in the excel\n",
    "spreadsheet on Canvas “L’Escargot”. Using this spreadsheet, compute the profitability for each hotel.\n",
    "Which one has the highest profitability? Which one has the lowest profitability?"
   ]
  },
  {
   "cell_type": "code",
   "execution_count": 12,
   "metadata": {},
   "outputs": [
    {
     "name": "stdout",
     "output_type": "stream",
     "text": [
      "Current working directory: c:\\Users\\richa\\Downloads\n"
     ]
    },
    {
     "name": "stderr",
     "output_type": "stream",
     "text": [
      "C:\\Users\\richa\\AppData\\Local\\Packages\\PythonSoftwareFoundation.Python.3.12_qbz5n2kfra8p0\\LocalCache\\local-packages\\Python312\\site-packages\\openpyxl\\worksheet\\_reader.py:329: UserWarning: Unknown extension is not supported and will be removed\n",
      "  warn(msg)\n"
     ]
    }
   ],
   "source": [
    "#The whole question 2 contains partial help from chatgpt and claude 3\n",
    "\n",
    "import os\n",
    "import pandas as pd\n",
    "import numpy as np\n",
    "import cvxpy as cp\n",
    "\n",
    "directory_path = '/Users/richa/Downloads' \n",
    "os.chdir(directory_path)\n",
    "current_directory = os.getcwd()\n",
    "print(\"Current working directory:\", current_directory)\n",
    "\n",
    "lescargot = 'Lescargot.xlsx'\n",
    "df = pd.read_excel(lescargot, header=2)"
   ]
  },
  {
   "cell_type": "code",
   "execution_count": 14,
   "metadata": {},
   "outputs": [
    {
     "name": "stdout",
     "output_type": "stream",
     "text": [
      "\n",
      "Most Profitable Hotel:\n",
      "Hotel                                                         2\n",
      "Location                                     Fresno, California\n",
      "Price                                                  10000000\n",
      "Price (normalized)                                     1.699076\n",
      "Square Root of Median Income (normalized)             -0.408199\n",
      "College Students in Area (normalized)                  0.311669\n",
      "State Population Per Inn (normalized)                 -0.474279\n",
      "Profitability                                         53.379192\n",
      "Name: 1, dtype: object\n",
      "\n",
      "Least Profitable Hotel:\n",
      "Hotel                                                              8\n",
      "Location                                     Los Angeles, California\n",
      "Price                                                        1750000\n",
      "Price (normalized)                                         -0.634128\n",
      "Square Root of Median Income (normalized)                   0.167686\n",
      "College Students in Area (normalized)                       3.106215\n",
      "State Population Per Inn (normalized)                        3.10653\n",
      "Profitability                                              23.445409\n",
      "Name: 7, dtype: object\n"
     ]
    }
   ],
   "source": [
    "#  profitability\n",
    "def compute_profitability(row):\n",
    "    state_pop_per_inn = row['State Population Per Inn (normalized)']\n",
    "    price = row['Price (normalized)']\n",
    "    sqrt_median_income = row['Square Root of Median Income (normalized)']\n",
    "    college_students = row['College Students in Area (normalized)']\n",
    "\n",
    "    profitability = 39.05 - (5.41 * state_pop_per_inn) + (5.86 * price) - (3.09 * sqrt_median_income) + (1.75 * college_students)\n",
    "    return profitability\n",
    "\n",
    "# Apply the function to each row of the DataFrame\n",
    "df['Profitability'] = df.apply(compute_profitability, axis=1)\n",
    "\n",
    "# Sort the DataFrame by profitability\n",
    "sorted_data = df.sort_values(by='Profitability', ascending=False)\n",
    "\n",
    "# Print the most and least profitable hotels\n",
    "most_profitable = sorted_data.iloc[0]\n",
    "least_profitable = sorted_data.iloc[-1]\n",
    "\n",
    "print(\"\\nMost Profitable Hotel:\")\n",
    "print(most_profitable)\n",
    "print(\"\\nLeast Profitable Hotel:\")\n",
    "print(least_profitable)\n",
    "\n"
   ]
  },
  {
   "cell_type": "markdown",
   "metadata": {},
   "source": [
    "3. L’Escargot has a budget of $10 million to spend on hotels. Suppose we use a “greedy” approach\n",
    "where we select the most profitable hotels until we ran out of budget. So we would start by the most\n",
    "profitable, and then if we had enough budget left, we would buy the hotel we predict to be the second\n",
    "most profitable, and so on.\n",
    "a. Describe what we would do with this approach, i.e., which hotels would we purchase?\n",
    "b. What would our total predicted profitability be? (This is the sum of the predicted\n",
    "profitability of all hotels we purchase.)\n",
    "c. If we are trying to maximize our total predicted profitability, is this a good approach? How\n",
    "about if we were trying to maximize the average predicted profitability of the hotels we\n",
    "select? How about if we had a budget of $20 million instead of $10 million?\n",
    "\n",
    "\n",
    "\n",
    "a. By doing this we can only afford hotel 2\n",
    "\n",
    "b. The profitability result is 53.3\n",
    "\n",
    "c. The result suggests that maximizing the total prediicted profitability, avg profitability or turn budget to 20 million do not provide best approach. "
   ]
  },
  {
   "cell_type": "code",
   "execution_count": 17,
   "metadata": {},
   "outputs": [
    {
     "name": "stdout",
     "output_type": "stream",
     "text": [
      "Decision variable values (x):\n",
      "[0. 0. 0. 0. 1. 0. 0. 0. 0. 1. 1. 1. 1. 0. 1. 1.]\n",
      "\n",
      "Selected hotels:\n",
      "    Hotel    Price  Profitability\n",
      "4       5   325000      37.344988\n",
      "9      10  1650000      38.880673\n",
      "10     11  1125000      38.010600\n",
      "11     12  2500000      40.289363\n",
      "12     13  1975000      39.419290\n",
      "14     15  1475000      38.590649\n",
      "15     16   750000      37.389119\n",
      "\n",
      "Total price: $9,800,000.00\n",
      "Total predicted profitability: 269.92\n"
     ]
    },
    {
     "name": "stderr",
     "output_type": "stream",
     "text": [
      "C:\\Users\\richa\\AppData\\Local\\Packages\\PythonSoftwareFoundation.Python.3.12_qbz5n2kfra8p0\\LocalCache\\local-packages\\Python312\\site-packages\\cvxpy\\expressions\\expression.py:650: UserWarning: \n",
      "This use of ``*`` has resulted in matrix multiplication.\n",
      "Using ``*`` for matrix multiplication has been deprecated since CVXPY 1.1.\n",
      "    Use ``*`` for matrix-scalar and vector-scalar multiplication.\n",
      "    Use ``@`` for matrix-matrix and matrix-vector multiplication.\n",
      "    Use ``multiply`` for elementwise multiplication.\n",
      "This code path has been hit 3 times so far.\n",
      "\n",
      "  warnings.warn(msg, UserWarning)\n"
     ]
    }
   ],
   "source": [
    "\n",
    "# Define decision variables\n",
    "number_hotel = len(df)\n",
    "x = cp.Variable(number_hotel, boolean=True)  \n",
    "\n",
    "# Objective function\n",
    "profitability = df['Profitability'].values\n",
    "obj_func = cp.Maximize(profitability @ x)\n",
    "\n",
    "# Budget constraint\n",
    "prices = df['Price'].values\n",
    "budget = 10000000  \n",
    "budget_constraint = cp.sum(prices * x) <= budget\n",
    "\n",
    "# Problem formulation\n",
    "problem = cp.Problem(obj_func, [budget_constraint])\n",
    "\n",
    "# Solve the problem\n",
    "problem.solve()\n",
    "\n",
    "# Print the selected hotels and their total predicted profitability\n",
    "selected_hotels = data.iloc[x.value.astype(bool)]\n",
    "total_predicted_profitability = sum(selected_hotels['Profitability'])\n",
    "\n",
    "print(\"Decision variable values (x):\")\n",
    "print(x.value)\n",
    "print(\"\\nSelected hotels:\")\n",
    "print(selected_hotels[['Hotel', 'Price', 'Profitability']])\n",
    "print(f\"\\nTotal price: ${sum(selected_hotels['Price']):,.2f}\")\n",
    "print(f\"Total predicted profitability: {total_predicted_profitability:.2f}\")\n"
   ]
  },
  {
   "cell_type": "markdown",
   "metadata": {},
   "source": [
    "The optimal solution is by selecting hotel 5, 10, 11, 12, 13, 15, 16. And the predicted profitability adds up to around 269 wish price of around 98 million."
   ]
  },
  {
   "cell_type": "markdown",
   "metadata": {},
   "source": [
    "5. L’Escargot thinks that buying too many hotels in one city is probably not a good idea and would\n",
    "prefer to diversify across as many cities as possible. Add constraint(s) to your model to limit the\n",
    "number of hotels purchased in any city to at most 2.\n",
    "a. What are the constraints that you need to add to the model? Intuitively, do you expect the\n",
    "new optimal objective function value to be larger, smaller or the same as before?\n",
    "b. Write the new optimization model.\n",
    "c. Solve the new model. Give the values of the decision variables and the optimal objective\n",
    "function value. How does this compare to the previous solution?"
   ]
  },
  {
   "cell_type": "markdown",
   "metadata": {},
   "source": [
    "a.     city_constraints.append(cp.sum(x[city_indices]) <= 2)\n",
    "I expect it to be smaller. \n"
   ]
  },
  {
   "cell_type": "code",
   "execution_count": 18,
   "metadata": {},
   "outputs": [
    {
     "name": "stdout",
     "output_type": "stream",
     "text": [
      "Decision variable values (x):\n",
      "[1. 0. 0. 0. 1. 0. 1. 1. 0. 1. 1. 0. 0. 0. 0. 0.]\n",
      "\n",
      "Selected hotels:\n",
      "    Hotel    Price  Profitability                      Location\n",
      "0       1  2925000      44.242369            Eureka, California\n",
      "4       5   325000      37.344988            Fresno, California\n",
      "6       7  1950000      23.776866       Los Angeles, California\n",
      "7       8  1750000      23.445409       Los Angeles, California\n",
      "9      10  1650000      38.880673  South Lake Tahoe, California\n",
      "10     11  1125000      38.010600  South Lake Tahoe, California\n",
      "\n",
      "Total price: $9,725,000.00\n",
      "Total predicted profitability: 205.70\n"
     ]
    },
    {
     "name": "stderr",
     "output_type": "stream",
     "text": [
      "C:\\Users\\richa\\AppData\\Local\\Packages\\PythonSoftwareFoundation.Python.3.12_qbz5n2kfra8p0\\LocalCache\\local-packages\\Python312\\site-packages\\cvxpy\\expressions\\expression.py:650: UserWarning: \n",
      "This use of ``*`` has resulted in matrix multiplication.\n",
      "Using ``*`` for matrix multiplication has been deprecated since CVXPY 1.1.\n",
      "    Use ``*`` for matrix-scalar and vector-scalar multiplication.\n",
      "    Use ``@`` for matrix-matrix and matrix-vector multiplication.\n",
      "    Use ``multiply`` for elementwise multiplication.\n",
      "This code path has been hit 4 times so far.\n",
      "\n",
      "  warnings.warn(msg, UserWarning)\n"
     ]
    }
   ],
   "source": [
    "# Define decision variables\n",
    "number_hotel = len(df)\n",
    "x = cp.Variable(number_hotel, boolean=True)  \n",
    "\n",
    "# Objective function\n",
    "profitability = df['Profitability'].values\n",
    "objective = cp.Maximize(profitability @ x)\n",
    "\n",
    "# Budget constraint\n",
    "prices = df['Price'].values\n",
    "budget = 10000000\n",
    "budget_constraint = cp.sum(prices * x) <= budget\n",
    "\n",
    "# City constraint: At most 2 hotels per city\n",
    "cities = df['Location'].unique()\n",
    "city_constraints = []\n",
    "for city in cities:\n",
    "    city_indices = df[df['Location'] == city].index\n",
    "    city_constraints.append(cp.sum(x[city_indices]) <= 2)\n",
    "\n",
    "# Problem formulation\n",
    "constraints = [budget_constraint] + city_constraints\n",
    "problem = cp.Problem(objective, constraints)\n",
    "\n",
    "# Solve the problem\n",
    "problem.solve()\n",
    "\n",
    "# Print the selected hotels and their total predicted profitability\n",
    "selected_hotels = df.iloc[x.value.astype(bool)]\n",
    "total_predicted_profitability = sum(selected_hotels['Profitability'])\n",
    "\n",
    "print(\"Decision variable values (x):\")\n",
    "print(x.value)\n",
    "print(\"\\nSelected hotels:\")\n",
    "print(selected_hotels[['Hotel', 'Price', 'Profitability', 'Location']])\n",
    "print(f\"\\nTotal price: ${sum(selected_hotels['Price']):,.2f}\")\n",
    "print(f\"Total predicted profitability: {total_predicted_profitability:.2f}\")"
   ]
  },
  {
   "cell_type": "markdown",
   "metadata": {},
   "source": [
    "The final optimal function result is 205.70, which is reduced alot from question 3. This shows that limit the number of hotels to 2 per city does decrease the overall profitability. This reflects that diversified investement strategy is more prefered. "
   ]
  },
  {
   "cell_type": "markdown",
   "metadata": {},
   "source": [
    "Exercise 3: Matching for a Dating Platform"
   ]
  },
  {
   "cell_type": "markdown",
   "metadata": {},
   "source": [
    "1. Assume all of the individuals in the data set would like to be matched to people of\n",
    "the opposite gender. What matches would you choose to maximize the aggregate\n",
    "match score?       "
   ]
  },
  {
   "cell_type": "code",
   "execution_count": 121,
   "metadata": {},
   "outputs": [
    {
     "name": "stdout",
     "output_type": "stream",
     "text": [
      "The maximum aggregate match score is: 48.0\n",
      "Match Laura with Carl\n",
      "Match Jennifer with Adam\n",
      "Match Emma with Daniel\n",
      "Match Olivia with Peter\n",
      "Match Martha with Eric\n",
      "Match Isabella with Ralph\n",
      "Match Mary with James\n",
      "Match Sophia with Robert\n"
     ]
    }
   ],
   "source": [
    "#Whole question 3 contains help from lecture example code by Jas. \n",
    "\n",
    "import cvxpy as cvx\n",
    "\n",
    "# Load data\n",
    "data_url = 'https://raw.githubusercontent.com/ormarketing/OD/master/OD.csv'\n",
    "df = pd.read_csv(data_url)\n",
    "\n",
    "# Separate males and females\n",
    "females = df[df['Gender'] == 'Female']\n",
    "males = df[df['Gender'] == 'Male']\n",
    "\n",
    "# Initialize variables\n",
    "num_females = len(females)\n",
    "num_males = len(males)\n",
    "activities = ['Sports', 'Theater', 'Religion', 'Outdoors', 'Eating Out']\n",
    "\n",
    "# Create compatibility score matrix\n",
    "compatibility_matrix = np.zeros((num_females, num_males))\n",
    "\n",
    "for i in range(num_females):\n",
    "    for j in range(num_males):\n",
    "        # Calculate the compatibility score\n",
    "        compatibility_matrix[i, j] = sum(females.iloc[i][activities] * males.iloc[j][activities])\n",
    "\n",
    "# Optimization variables\n",
    "X = cvx.Variable((num_females, num_males), boolean=True)\n",
    "\n",
    "# Objective: Maximize sum of compatibility scores\n",
    "objective = cvx.Maximize(cvx.sum(cvx.multiply(X, compatibility_matrix)))\n",
    "\n",
    "# Constraints\n",
    "# Each female is matched exactly once\n",
    "constraints = [cvx.sum(X, axis=1) == 1]\n",
    "\n",
    "# Each male is matched at most once\n",
    "constraints += [cvx.sum(X, axis=0) <= 1]\n",
    "\n",
    "# Solve the problem\n",
    "problem = cvx.Problem(objective, constraints)\n",
    "problem.solve()\n",
    "\n",
    "# Output results\n",
    "print(\"The maximum aggregate match score is:\", problem.value)\n",
    "matched_pairs = np.argwhere(X.value > 0.9)\n",
    "for index in matched_pairs:\n",
    "    female_name = females.iloc[index[0]]['Unnamed: 0']\n",
    "    male_name = males.iloc[index[1]]['Unnamed: 0']\n",
    "    print(f\"Match {female_name} with {male_name}\")"
   ]
  },
  {
   "cell_type": "markdown",
   "metadata": {},
   "source": [
    "2. How would the results change if each person is presented with two possible\n",
    "matches?"
   ]
  },
  {
   "cell_type": "code",
   "execution_count": 122,
   "metadata": {},
   "outputs": [
    {
     "name": "stdout",
     "output_type": "stream",
     "text": [
      "The maximum aggregate match score with two matches per person is: 82.0\n",
      "Match Laura with Adam\n",
      "Match Laura with Carl\n",
      "Match Jennifer with Robert\n",
      "Match Jennifer with Adam\n",
      "Match Emma with James\n",
      "Match Emma with Daniel\n",
      "Match Olivia with Carl\n",
      "Match Olivia with Ralph\n",
      "Match Martha with Eric\n",
      "Match Martha with Daniel\n",
      "Match Isabella with Peter\n",
      "Match Isabella with Ralph\n",
      "Match Mary with James\n",
      "Match Mary with Peter\n",
      "Match Sophia with Robert\n",
      "Match Sophia with Eric\n"
     ]
    }
   ],
   "source": [
    "# Separate males and females\n",
    "constraints = [cvx.sum(X, axis=1) == 2]\n",
    "constraints += [cvx.sum(X, axis=0) <= 2]\n",
    "\n",
    "# Solve the problem\n",
    "problem = cvx.Problem(objective, constraints)\n",
    "problem.solve()\n",
    "\n",
    "# Output results\n",
    "print(\"The maximum aggregate match score with two matches per person is:\", problem.value)\n",
    "matched_pairs = np.argwhere(X.value > 0.9)\n",
    "for index in matched_pairs:\n",
    "    female_name = females.iloc[index[0]]['Unnamed: 0']\n",
    "    male_name = males.iloc[index[1]]['Unnamed: 0']\n",
    "    print(f\"Match {female_name} with {male_name}\")\n"
   ]
  }
 ],
 "metadata": {
  "kernelspec": {
   "display_name": "Python 3 (ipykernel)",
   "language": "python",
   "name": "python3"
  },
  "language_info": {
   "codemirror_mode": {
    "name": "ipython",
    "version": 3
   },
   "file_extension": ".py",
   "mimetype": "text/x-python",
   "name": "python",
   "nbconvert_exporter": "python",
   "pygments_lexer": "ipython3",
   "version": "3.11.5"
  }
 },
 "nbformat": 4,
 "nbformat_minor": 2
}
